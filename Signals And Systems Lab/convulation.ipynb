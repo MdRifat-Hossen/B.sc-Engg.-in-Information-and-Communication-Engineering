import numpy as np
import matplotlib.pyplot as plt

# Define the input signals
x = [1, 2, 3, 4]
h = [1, 0.5, 0.25]

# Perform convolution using numpy
y = np.convolve(x, h, mode='full')

# Print the result
print("Input signal (x):", x)
print("Impulse Response (h):", h)
print("Convolved signal (y):", y)

# Plotting the signals
# plt.figure(figsize=(12, 6))

# Original Signal
plt.subplot(3, 1, 1)
plt.stem(range(len(x)), x)  
plt.title("Input Signal (x)")
plt.xlabel("n")
plt.ylabel("x[n]")

# Impulse Response
plt.subplot(3, 1, 2)
plt.stem(range(len(h)), h)  
plt.title("Impulse Response (h)")
plt.xlabel("n")
plt.ylabel("h[n]")

# Convolved Signal
plt.subplot(3, 1, 3)
plt.stem(range(len(y)), y)  
plt.title("Convolved Signal (y)")
plt.xlabel("n")
plt.ylabel("y[n]")

plt.tight_layout()
plt.show()
